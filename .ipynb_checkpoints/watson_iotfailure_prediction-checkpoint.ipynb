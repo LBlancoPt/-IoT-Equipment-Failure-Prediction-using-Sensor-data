{
 "cells": [
  {
   "cell_type": "markdown",
   "metadata": {
    "collapsed": true
   },
   "source": [
    "# IoT Equipment Failure Prediction using Sensor data"
   ]
  },
  {
   "cell_type": "code",
   "execution_count": 349,
   "metadata": {},
   "outputs": [],
   "source": [
    "from matplotlib import pyplot as plt\n",
    "import seaborn as sns\n",
    "import numpy as np\n",
    "import pandas as pd\n",
    "from sklearn import tree\n",
    "from sklearn.preprocessing import PolynomialFeatures\n",
    "from sklearn.linear_model import LogisticRegression, LogisticRegressionCV\n",
    "from sklearn.model_selection import cross_val_score, StratifiedKFold\n",
    "from sklearn.model_selection import GridSearchCV\n",
    "from sklearn.metrics import mean_squared_error, r2_score\n",
    "from sklearn.datasets import make_classification\n",
    "from sklearn.ensemble import ExtraTreesClassifier\n",
    "from sklearn.metrics import accuracy_score\n",
    "from mlxtend.feature_selection import ExhaustiveFeatureSelector as EFS\n",
    "from sklearn.svm import SVC"
   ]
  },
  {
   "cell_type": "markdown",
   "metadata": {},
   "source": [
    "# Data"
   ]
  },
  {
   "cell_type": "code",
   "execution_count": 350,
   "metadata": {},
   "outputs": [
    {
     "data": {
      "text/html": [
       "<div>\n",
       "<style scoped>\n",
       "    .dataframe tbody tr th:only-of-type {\n",
       "        vertical-align: middle;\n",
       "    }\n",
       "\n",
       "    .dataframe tbody tr th {\n",
       "        vertical-align: top;\n",
       "    }\n",
       "\n",
       "    .dataframe thead th {\n",
       "        text-align: right;\n",
       "    }\n",
       "</style>\n",
       "<table border=\"1\" class=\"dataframe\">\n",
       "  <thead>\n",
       "    <tr style=\"text-align: right;\">\n",
       "      <th></th>\n",
       "      <th>footfall</th>\n",
       "      <th>atemp</th>\n",
       "      <th>selfLR</th>\n",
       "      <th>ClinLR</th>\n",
       "      <th>DoleLR</th>\n",
       "      <th>PID</th>\n",
       "      <th>outpressure</th>\n",
       "      <th>inpressure</th>\n",
       "      <th>temp</th>\n",
       "      <th>fail</th>\n",
       "    </tr>\n",
       "  </thead>\n",
       "  <tbody>\n",
       "    <tr>\n",
       "      <th>0</th>\n",
       "      <td>0</td>\n",
       "      <td>7</td>\n",
       "      <td>7</td>\n",
       "      <td>1</td>\n",
       "      <td>6</td>\n",
       "      <td>6</td>\n",
       "      <td>36</td>\n",
       "      <td>3</td>\n",
       "      <td>1</td>\n",
       "      <td>1</td>\n",
       "    </tr>\n",
       "    <tr>\n",
       "      <th>1</th>\n",
       "      <td>190</td>\n",
       "      <td>1</td>\n",
       "      <td>3</td>\n",
       "      <td>3</td>\n",
       "      <td>5</td>\n",
       "      <td>1</td>\n",
       "      <td>20</td>\n",
       "      <td>4</td>\n",
       "      <td>1</td>\n",
       "      <td>0</td>\n",
       "    </tr>\n",
       "    <tr>\n",
       "      <th>2</th>\n",
       "      <td>31</td>\n",
       "      <td>7</td>\n",
       "      <td>2</td>\n",
       "      <td>2</td>\n",
       "      <td>6</td>\n",
       "      <td>1</td>\n",
       "      <td>24</td>\n",
       "      <td>6</td>\n",
       "      <td>1</td>\n",
       "      <td>0</td>\n",
       "    </tr>\n",
       "    <tr>\n",
       "      <th>3</th>\n",
       "      <td>83</td>\n",
       "      <td>4</td>\n",
       "      <td>3</td>\n",
       "      <td>4</td>\n",
       "      <td>5</td>\n",
       "      <td>1</td>\n",
       "      <td>28</td>\n",
       "      <td>6</td>\n",
       "      <td>1</td>\n",
       "      <td>0</td>\n",
       "    </tr>\n",
       "    <tr>\n",
       "      <th>4</th>\n",
       "      <td>640</td>\n",
       "      <td>7</td>\n",
       "      <td>5</td>\n",
       "      <td>6</td>\n",
       "      <td>4</td>\n",
       "      <td>0</td>\n",
       "      <td>68</td>\n",
       "      <td>6</td>\n",
       "      <td>1</td>\n",
       "      <td>0</td>\n",
       "    </tr>\n",
       "    <tr>\n",
       "      <th>5</th>\n",
       "      <td>110</td>\n",
       "      <td>3</td>\n",
       "      <td>3</td>\n",
       "      <td>4</td>\n",
       "      <td>6</td>\n",
       "      <td>1</td>\n",
       "      <td>21</td>\n",
       "      <td>4</td>\n",
       "      <td>1</td>\n",
       "      <td>0</td>\n",
       "    </tr>\n",
       "    <tr>\n",
       "      <th>6</th>\n",
       "      <td>100</td>\n",
       "      <td>7</td>\n",
       "      <td>5</td>\n",
       "      <td>6</td>\n",
       "      <td>4</td>\n",
       "      <td>1</td>\n",
       "      <td>77</td>\n",
       "      <td>4</td>\n",
       "      <td>1</td>\n",
       "      <td>0</td>\n",
       "    </tr>\n",
       "    <tr>\n",
       "      <th>7</th>\n",
       "      <td>31</td>\n",
       "      <td>1</td>\n",
       "      <td>5</td>\n",
       "      <td>4</td>\n",
       "      <td>5</td>\n",
       "      <td>4</td>\n",
       "      <td>21</td>\n",
       "      <td>4</td>\n",
       "      <td>1</td>\n",
       "      <td>0</td>\n",
       "    </tr>\n",
       "    <tr>\n",
       "      <th>8</th>\n",
       "      <td>180</td>\n",
       "      <td>7</td>\n",
       "      <td>4</td>\n",
       "      <td>6</td>\n",
       "      <td>3</td>\n",
       "      <td>3</td>\n",
       "      <td>31</td>\n",
       "      <td>4</td>\n",
       "      <td>1</td>\n",
       "      <td>0</td>\n",
       "    </tr>\n",
       "    <tr>\n",
       "      <th>9</th>\n",
       "      <td>2800</td>\n",
       "      <td>0</td>\n",
       "      <td>3</td>\n",
       "      <td>3</td>\n",
       "      <td>7</td>\n",
       "      <td>0</td>\n",
       "      <td>39</td>\n",
       "      <td>3</td>\n",
       "      <td>1</td>\n",
       "      <td>0</td>\n",
       "    </tr>\n",
       "  </tbody>\n",
       "</table>\n",
       "</div>"
      ],
      "text/plain": [
       "   footfall  atemp  selfLR  ClinLR  DoleLR  PID  outpressure  inpressure  \\\n",
       "0         0      7       7       1       6    6           36           3   \n",
       "1       190      1       3       3       5    1           20           4   \n",
       "2        31      7       2       2       6    1           24           6   \n",
       "3        83      4       3       4       5    1           28           6   \n",
       "4       640      7       5       6       4    0           68           6   \n",
       "5       110      3       3       4       6    1           21           4   \n",
       "6       100      7       5       6       4    1           77           4   \n",
       "7        31      1       5       4       5    4           21           4   \n",
       "8       180      7       4       6       3    3           31           4   \n",
       "9      2800      0       3       3       7    0           39           3   \n",
       "\n",
       "   temp  fail  \n",
       "0     1     1  \n",
       "1     1     0  \n",
       "2     1     0  \n",
       "3     1     0  \n",
       "4     1     0  \n",
       "5     1     0  \n",
       "6     1     0  \n",
       "7     1     0  \n",
       "8     1     0  \n",
       "9     1     0  "
      ]
     },
     "execution_count": 350,
     "metadata": {},
     "output_type": "execute_result"
    }
   ],
   "source": [
    "data = pd.read_csv('iot_sensor_dataset.csv')\n",
    "data.head(10)"
   ]
  },
  {
   "cell_type": "code",
   "execution_count": 351,
   "metadata": {},
   "outputs": [],
   "source": [
    "X = data.iloc[:,:9]\n",
    "y = data.iloc[:,9]\n",
    "train_x, test_x, train_y, test_y = train_test_split(X,y)"
   ]
  },
  {
   "cell_type": "markdown",
   "metadata": {},
   "source": [
    "# Confusion_matrix"
   ]
  },
  {
   "cell_type": "code",
   "execution_count": 352,
   "metadata": {},
   "outputs": [],
   "source": [
    "def confusion_matrix(actfail, predictfail):\n",
    "  # Compute Confusion matrix\n",
    "  print(\"Actual, Predicted Observations:  \",len(actfail), len(predictfail))\n",
    "  # print(actfail, predictfail)\n",
    "  anpn = 0\n",
    "  anpy = 0\n",
    "  aypn = 0\n",
    "  aypy = 0\n",
    "  \n",
    "  for i in range(len(actfail)):\n",
    "      if (actfail[i]==0 and predictfail[i]==0):\n",
    "          anpn = anpn + 1\n",
    "      elif (actfail[i]==0 and predictfail[i]==1):\n",
    "          anpy = anpy + 1\n",
    "      elif (actfail[i]==1 and predictfail[i]==0):\n",
    "          aypn = aypn + 1\n",
    "      else:\n",
    "          aypy = aypy + 1\n",
    "  # Confusoin matrix\n",
    "  print (\"--------------------------------------------\")\n",
    "  print (\"Confusion Matrix\")\n",
    "  print (\"--------------------------------------------\")\n",
    "  print (\"              \", \"Predicted N\", \"Predicted Y\")\n",
    "  print (\"Actual N      \", anpn,\"          \", anpy) \n",
    "  print (\"Actual Y      \", aypn,\"          \", aypy)\n",
    "  print (\"--------------------------------------------\")\n",
    "  print (\"Total observations  :  \", anpn+anpy+aypn+aypy)\n",
    "  print (\"False Positives     :  \", anpy)\n",
    "  print (\"False Negatives     :  \", aypn)\n",
    "  print (\"Overall Accuracy    :  \", round((float(anpn+aypy)/float(anpn+anpy+aypn+aypy))*100, 2), \"%\")\n",
    "  print (\"Sensitivity/Recall  :  \", round((float(aypy)/float(aypn+aypy))*100, 2), \"%\")\n",
    "  print (\"Specificity         :  \", round((float(anpn)/float(anpn+anpy))*100, 2), \"%\")\n",
    "  print (\"Precision           :  \", round((float(aypy)/float(anpy+aypy))*100, 2), \"%\")\n",
    "  print (\"--------------------------------------------\")"
   ]
  },
  {
   "cell_type": "markdown",
   "metadata": {},
   "source": [
    "# ExtraTreesClassifier"
   ]
  },
  {
   "cell_type": "code",
   "execution_count": 343,
   "metadata": {},
   "outputs": [
    {
     "name": "stdout",
     "output_type": "stream",
     "text": [
      "Feature ranking:\n",
      "1. feature 5 (0.467339)\n",
      "2. feature 2 (0.166052)\n",
      "3. feature 3 (0.118038)\n",
      "4. feature 4 (0.062844)\n",
      "5. feature 8 (0.043691)\n",
      "6. feature 0 (0.042401)\n",
      "7. feature 6 (0.037795)\n",
      "8. feature 7 (0.031798)\n",
      "9. feature 1 (0.030041)\n"
     ]
    },
    {
     "data": {
      "image/png": "[encoded data removed]",
      "text/plain": [
       "<Figure size 432x288 with 1 Axes>"
      ]
     },
     "metadata": {
      "needs_background": "light"
     },
     "output_type": "display_data"
    },
    {
     "name": "stdout",
     "output_type": "stream",
     "text": [
      "[0.04240099 0.03004099 0.16605247 0.11803829 0.06284406 0.46733893\n",
      " 0.03779531 0.03179821 0.04369075]\n"
     ]
    }
   ],
   "source": [
    "forest = ExtraTreesClassifier(n_estimators=250,random_state=0)\n",
    "forest.fit(X, y)\n",
    "importances = forest.feature_importances_\n",
    "std = np.std([tree.feature_importances_ for tree in forest.estimators_],\n",
    "             axis=0)\n",
    "indices = np.argsort(importances)[::-1]\n",
    "\n",
    "# Print the feature ranking\n",
    "print(\"Feature ranking:\")\n",
    "\n",
    "for f in range(X.shape[1]):\n",
    "    print(\"%d. feature %d (%f)\" % (f + 1, indices[f], importances[indices[f]]))\n",
    "\n",
    "# Plot the feature importances of the forest\n",
    "plt.figure()\n",
    "plt.title(\"Feature importances\")\n",
    "plt.bar(range(X.shape[1]), importances[indices],\n",
    "       color=\"r\", yerr=std[indices], align=\"center\")\n",
    "plt.xticks(range(X.shape[1]), indices)\n",
    "plt.xlim([-1, X.shape[1]])\n",
    "plt.show()\n",
    "print(forest.feature_importances_)"
   ]
  },
  {
   "cell_type": "markdown",
   "metadata": {},
   "source": [
    "# http://rasbt.github.io/mlxtend/user_guide/feature_selection/ExhaustiveFeatureSelector/"
   ]
  },
  {
   "cell_type": "markdown",
   "metadata": {},
   "source": [
    "# LogisticRegression"
   ]
  },
  {
   "cell_type": "code",
   "execution_count": 333,
   "metadata": {},
   "outputs": [
    {
     "name": "stderr",
     "output_type": "stream",
     "text": [
      "Features: 511/511"
     ]
    },
    {
     "name": "stdout",
     "output_type": "stream",
     "text": [
      "Best accuracy score: 0.91\n",
      "Best subset (indices): (2, 3, 5, 8)\n",
      "Best subset (corresponding names): ('selfLR', 'ClinLR', 'PID', 'temp')\n"
     ]
    }
   ],
   "source": [
    "model = LogisticRegression()\n",
    "efs1 = EFS(model, \n",
    "           min_features=1,\n",
    "           max_features=9,\n",
    "           scoring='accuracy',\n",
    "           print_progress=True)\n",
    "\n",
    "efs1 = efs1.fit(train_x, train_y)\n",
    "print('Best accuracy score: %.2f' % efs1.best_score_)\n",
    "print('Best subset (indices):', efs1.best_idx_)\n",
    "print('Best subset (corresponding names):', efs1.best_feature_names_)"
   ]
  },
  {
   "cell_type": "code",
   "execution_count": 340,
   "metadata": {},
   "outputs": [
    {
     "name": "stdout",
     "output_type": "stream",
     "text": [
      "Actual, Predicted Observations:   236 236\n",
      "--------------------------------------------\n",
      "Confusion Matrix\n",
      "--------------------------------------------\n",
      "               Predicted N Predicted Y\n",
      "Actual N       135            12\n",
      "Actual Y       5            84\n",
      "--------------------------------------------\n",
      "Total observations  :   236\n",
      "False Positives     :   12\n",
      "False Negatives     :   5\n",
      "Overall Accuracy    :   92.8 %\n",
      "Sensitivity/Recall  :   94.38 %\n",
      "Specificity         :   91.84 %\n",
      "Precision           :   87.5 %\n",
      "--------------------------------------------\n"
     ]
    }
   ],
   "source": [
    "X_train_efs = efs1.transform(train_x)\n",
    "X_test_efs = efs1.transform(test_x)\n",
    "\n",
    "# Fit the estimator using the new feature subset\n",
    "# and make a prediction on the test data\n",
    "model.fit(X_train_efs, train_y)\n",
    "y_pred = model.predict(X_test_efs)\n",
    "confusion_matrix(test_y.values,y_pred)"
   ]
  },
  {
   "cell_type": "markdown",
   "metadata": {},
   "source": [
    "# tree.DecisionTreeClassifier"
   ]
  },
  {
   "cell_type": "code",
   "execution_count": 345,
   "metadata": {},
   "outputs": [
    {
     "name": "stderr",
     "output_type": "stream",
     "text": [
      "Features: 511/511"
     ]
    },
    {
     "name": "stdout",
     "output_type": "stream",
     "text": [
      "Best accuracy score: 0.91\n",
      "Best subset (indices): (2, 3, 5)\n",
      "Best subset (corresponding names): ('selfLR', 'ClinLR', 'PID')\n"
     ]
    }
   ],
   "source": [
    "model = tree.DecisionTreeClassifier()\n",
    "efs1 = EFS(model, \n",
    "           min_features=1,\n",
    "           max_features=9,\n",
    "           scoring='accuracy',\n",
    "           print_progress=True)\n",
    "\n",
    "efs1 = efs1.fit(train_x, train_y)\n",
    "print('Best accuracy score: %.2f' % efs1.best_score_)\n",
    "print('Best subset (indices):', efs1.best_idx_)\n",
    "print('Best subset (corresponding names):', efs1.best_feature_names_)"
   ]
  },
  {
   "cell_type": "code",
   "execution_count": 346,
   "metadata": {},
   "outputs": [
    {
     "name": "stdout",
     "output_type": "stream",
     "text": [
      "Actual, Predicted Observations:   236 236\n",
      "--------------------------------------------\n",
      "Confusion Matrix\n",
      "--------------------------------------------\n",
      "               Predicted N Predicted Y\n",
      "Actual N       135            13\n",
      "Actual Y       9            79\n",
      "--------------------------------------------\n",
      "Total observations  :   236\n",
      "False Positives     :   13\n",
      "False Negatives     :   9\n",
      "Overall Accuracy    :   90.68 %\n",
      "Sensitivity/Recall  :   89.77 %\n",
      "Specificity         :   91.22 %\n",
      "Precision           :   85.87 %\n",
      "--------------------------------------------\n"
     ]
    }
   ],
   "source": [
    "X_train_efs = efs1.transform(train_x)\n",
    "X_test_efs = efs1.transform(test_x)\n",
    "\n",
    "# Fit the estimator using the new feature subset\n",
    "# and make a prediction on the test data\n",
    "model.fit(X_train_efs, train_y)\n",
    "y_pred = model.predict(X_test_efs)\n",
    "confusion_matrix(test_y.values,y_pred)"
   ]
  },
  {
   "cell_type": "markdown",
   "metadata": {},
   "source": [
    "# svm.SVC"
   ]
  },
  {
   "cell_type": "code",
   "execution_count": 347,
   "metadata": {},
   "outputs": [
    {
     "name": "stderr",
     "output_type": "stream",
     "text": [
      "Features: 511/511"
     ]
    },
    {
     "name": "stdout",
     "output_type": "stream",
     "text": [
      "Best accuracy score: 0.92\n",
      "Best subset (indices): (2, 3, 4, 5)\n",
      "Best subset (corresponding names): ('selfLR', 'ClinLR', 'DoleLR', 'PID')\n"
     ]
    }
   ],
   "source": [
    "model = svm.SVC()\n",
    "efs1 = EFS(model, \n",
    "           min_features=1,\n",
    "           max_features=9,\n",
    "           scoring='accuracy',\n",
    "           print_progress=True)\n",
    "\n",
    "efs1 = efs1.fit(train_x, train_y)\n",
    "print('Best accuracy score: %.2f' % efs1.best_score_)\n",
    "print('Best subset (indices):', efs1.best_idx_)\n",
    "print('Best subset (corresponding names):', efs1.best_feature_names_)"
   ]
  },
  {
   "cell_type": "code",
   "execution_count": 348,
   "metadata": {},
   "outputs": [
    {
     "name": "stdout",
     "output_type": "stream",
     "text": [
      "Actual, Predicted Observations:   236 236\n",
      "--------------------------------------------\n",
      "Confusion Matrix\n",
      "--------------------------------------------\n",
      "               Predicted N Predicted Y\n",
      "Actual N       134            14\n",
      "Actual Y       9            79\n",
      "--------------------------------------------\n",
      "Total observations  :   236\n",
      "False Positives     :   14\n",
      "False Negatives     :   9\n",
      "Overall Accuracy    :   90.25 %\n",
      "Sensitivity/Recall  :   89.77 %\n",
      "Specificity         :   90.54 %\n",
      "Precision           :   84.95 %\n",
      "--------------------------------------------\n"
     ]
    }
   ],
   "source": [
    "X_train_efs = efs1.transform(train_x)\n",
    "X_test_efs = efs1.transform(test_x)\n",
    "\n",
    "# Fit the estimator using the new feature subset\n",
    "# and make a prediction on the test data\n",
    "model.fit(X_train_efs, train_y)\n",
    "y_pred = model.predict(X_test_efs)\n",
    "confusion_matrix(test_y.values,y_pred)"
   ]
  },
  {
   "cell_type": "code",
   "execution_count": null,
   "metadata": {},
   "outputs": [],
   "source": []
  }
 ],
 "metadata": {
  "kernelspec": {
   "display_name": "Python 3",
   "language": "python",
   "name": "python3"
  },
  "language_info": {
   "codemirror_mode": {
    "name": "ipython",
    "version": 3
   },
   "file_extension": ".py",
   "mimetype": "text/x-python",
   "name": "python",
   "nbconvert_exporter": "python",
   "pygments_lexer": "ipython3",
   "version": "3.8.2"
  }
 },
 "nbformat": 4,
 "nbformat_minor": 1
}
